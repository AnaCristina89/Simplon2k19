{
 "cells": [
  {
   "cell_type": "code",
   "execution_count": 1,
   "metadata": {},
   "outputs": [],
   "source": [
    "class Truc:\n",
    "    def __init__(self):\n",
    "        self=self\n",
    "    def bidule(self):\n",
    "        print(\"j'affiche un bidule\")\n",
    "    pass"
   ]
  },
  {
   "cell_type": "code",
   "execution_count": 2,
   "metadata": {},
   "outputs": [
    {
     "name": "stdout",
     "output_type": "stream",
     "text": [
      "j'affiche un bidule\n"
     ]
    }
   ],
   "source": [
    "t = Truc()\n",
    "t.bidule()"
   ]
  },
  {
   "cell_type": "code",
   "execution_count": 3,
   "metadata": {},
   "outputs": [],
   "source": [
    "class Vecteur2D:\n",
    "    def __init__(self, x0, y0):\n",
    "        self.x = x0\n",
    "        self.y = y0\n",
    "    def __add__(self, second): # addition de vecteur\n",
    "        return Vecteur2D(self.x + second.x, self.y + second.y)\n",
    "    def __str__(self): # affichage d'un vecteur\n",
    "        return(\"Vecteur({}, {})\".format(self.x, self.y))"
   ]
  },
  {
   "cell_type": "code",
   "execution_count": 4,
   "metadata": {},
   "outputs": [],
   "source": [
    "v1 = Vecteur2D(1.2, 2.3)\n",
    "v2 = Vecteur2D(3.4, 4.5)"
   ]
  },
  {
   "cell_type": "code",
   "execution_count": 5,
   "metadata": {},
   "outputs": [
    {
     "name": "stdout",
     "output_type": "stream",
     "text": [
      "Vecteur(4.6, 6.8)\n"
     ]
    }
   ],
   "source": [
    "print(v1+v2)"
   ]
  }
 ],
 "metadata": {
  "kernelspec": {
   "display_name": "Python 3",
   "language": "python",
   "name": "python3"
  },
  "language_info": {
   "codemirror_mode": {
    "name": "ipython",
    "version": 3
   },
   "file_extension": ".py",
   "mimetype": "text/x-python",
   "name": "python",
   "nbconvert_exporter": "python",
   "pygments_lexer": "ipython3",
   "version": "3.7.1"
  }
 },
 "nbformat": 4,
 "nbformat_minor": 2
}
